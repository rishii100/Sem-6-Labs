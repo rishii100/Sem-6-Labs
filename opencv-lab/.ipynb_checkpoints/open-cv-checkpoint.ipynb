{
 "cells": [
  {
   "cell_type": "code",
   "execution_count": 1,
   "id": "aa318318",
   "metadata": {},
   "outputs": [],
   "source": [
    "import matplotlib.pyplot as plt\n",
    "import os\n",
    "import numpy as np\n",
    "import cv2"
   ]
  },
  {
   "cell_type": "code",
   "execution_count": null,
   "id": "eff0c6be",
   "metadata": {},
   "outputs": [],
   "source": [
    "# 1.\n",
    "# reading the image\n",
    "img = cv2.imread('random.png')\n",
    " # displaying the image\n",
    "cv2.imshow('graycsale image',img)\n",
    " \n",
    "# waitKey() waits for a key press to close the window and 0 specifies indefinite loop\n",
    "cv2.waitKey(0)\n",
    " \n",
    "# cv2.destroyAllWindows() simply destroys all the windows we created.\n",
    "cv2.destroyAllWindows()\n",
    " \n",
    "# writitng the image\n",
    "cv2.imwrite('grayscale.jpg',img)"
   ]
  },
  {
   "cell_type": "code",
   "execution_count": null,
   "id": "612c03df",
   "metadata": {},
   "outputs": [],
   "source": [
    "#2.\n",
    "# changing the format from png to jpg\n",
    "response = cv2.imwrite(\"/output.jpg\", img)"
   ]
  },
  {
   "cell_type": "code",
   "execution_count": null,
   "id": "6aa09cb3",
   "metadata": {},
   "outputs": [],
   "source": [
    "#3.\n",
    "# resizing the image\n",
    "img_resized = cv2.resize(img, (1050, 1610))"
   ]
  },
  {
   "cell_type": "code",
   "execution_count": null,
   "id": "32821643",
   "metadata": {},
   "outputs": [],
   "source": [
    "#4.\n",
    "# convert the image to grayscale\n",
    "gray_image = cv2.cvtColor(img, cv2.COLOR_BGR2GRAY) "
   ]
  },
  {
   "cell_type": "code",
   "execution_count": null,
   "id": "fe37113e",
   "metadata": {},
   "outputs": [],
   "source": [
    "#5.\n",
    "# rotating the image\n",
    "image = cv2.rotate(img, cv2.ROTATE_90_CLOCKWISE)\n",
    "#shifting the image (RECTILINEAR SHIFT)\n",
    "height, width = img.shape[:2] \n",
    "  \n",
    "quarter_height, quarter_width = height / 4, width / 4\n",
    "  \n",
    "T = np.float32([[1, 0, quarter_width], [0, 1, quarter_height]]) \n",
    "  \n",
    "# We use warpAffine to transform \n",
    "# the image using the matrix, T \n",
    "img_translation = cv2.warpAffine(img, T, (width, height)) "
   ]
  },
  {
   "cell_type": "code",
   "execution_count": null,
   "id": "d65085ef",
   "metadata": {},
   "outputs": [],
   "source": [
    "#6.1\n",
    "# play a video\n",
    "cap = cv2.VideoCapture('video_path') \n",
    "if (cap.isOpened()== False): \n",
    "    print(\"Error opening video file\") while(cap.isOpened()): \n",
    "      \n",
    "# Capture frame-by-frame \n",
    "    ret, frame = cap.read() \n",
    "    if ret == True: \n",
    "    # Display the resulting frame \n",
    "        cv2.imshow('Frame', frame) \n",
    "          \n",
    "    # Press Q on keyboard to exit \n",
    "        if cv2.waitKey(25) & 0xFF == ord('q'): \n",
    "            break\n",
    "  \n",
    "# Break the loop \n",
    "    else: \n",
    "        break\n",
    "  \n",
    "# When everything done, release \n",
    "# the video capture object \n",
    "cap.release() \n",
    "  \n",
    "# Closes all the frames \n",
    "cv2.destroyAllWindows() "
   ]
  },
  {
   "cell_type": "code",
   "execution_count": null,
   "id": "00d9ecdd",
   "metadata": {},
   "outputs": [],
   "source": [
    "#6.2\n",
    "# extract and save all images from the video\n",
    "cam = cv2.VideoCapture(\"video_path\") \n",
    "  \n",
    "try: \n",
    "      \n",
    "    # creating a folder named data \n",
    "    if not os.path.exists('data'): \n",
    "        os.makedirs('data') \n",
    "  \n",
    "# if not created then raise error \n",
    "except OSError: \n",
    "    print ('Error: Creating directory of data') \n",
    "  \n",
    "# frame \n",
    "currentframe = 0\n",
    "  \n",
    "while(True): \n",
    "      \n",
    "    # reading from frame \n",
    "    ret,frame = cam.read() \n",
    "  \n",
    "    if ret: \n",
    "        # if video is still left continue creating images \n",
    "        name = './data/frame' + str(currentframe) + '.jpg'\n",
    "        print ('Creating...' + name) \n",
    "  \n",
    "        # writing the extracted images \n",
    "        cv2.imwrite(name, frame) \n",
    "  \n",
    "        # increasing counter so that it will \n",
    "        # show how many frames are created \n",
    "        currentframe += 1\n",
    "    else: \n",
    "        break\n",
    "  \n",
    "# Release all space and windows once done \n",
    "cam.release() \n",
    "cv2.destroyAllWindows() "
   ]
  }
 ],
 "metadata": {
  "kernelspec": {
   "display_name": "Python 3 (ipykernel)",
   "language": "python",
   "name": "python3"
  },
  "language_info": {
   "codemirror_mode": {
    "name": "ipython",
    "version": 3
   },
   "file_extension": ".py",
   "mimetype": "text/x-python",
   "name": "python",
   "nbconvert_exporter": "python",
   "pygments_lexer": "ipython3",
   "version": "3.10.9"
  }
 },
 "nbformat": 4,
 "nbformat_minor": 5
}
